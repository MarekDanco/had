{
 "cells": [
  {
   "cell_type": "code",
   "execution_count": null,
   "metadata": {},
   "outputs": [],
   "source": [
    "from time import sleep, time\n",
    "import serial\n",
    "from pynput import keyboard"
   ]
  },
  {
   "cell_type": "code",
   "execution_count": null,
   "metadata": {},
   "outputs": [],
   "source": [
    "with serial.Serial(port=\"COM5\", baudrate=115200) as com:\n",
    "    pressed = False\n",
    "    recent = dict()\n",
    "    def on_press(key):\n",
    "        if key.char not in {\"y\", \"g\", \"h\", \"j\"}:\n",
    "            return\n",
    "        \n",
    "        now = time()\n",
    "        global recent\n",
    "        if \"press\" in recent:\n",
    "            diff = now - recent[\"press\"]\n",
    "            if diff < 0.19:  # make keys not spammable\n",
    "                return\n",
    "        global pressed\n",
    "        if not pressed:\n",
    "            pressed = True\n",
    "            com.write(key.char.encode())\n",
    "            recent[\"press\"] = now\n",
    "\n",
    "\n",
    "    def on_release(key):\n",
    "        if key.char not in {\"y\", \"g\", \"h\", \"j\"}:\n",
    "            return\n",
    "        global pressed\n",
    "        if pressed:\n",
    "            pressed = False\n",
    "        \n",
    "    listener = keyboard.Listener(\n",
    "        on_press=on_press,\n",
    "        on_release=on_release)\n",
    "    listener.start()\n",
    "    while True:\n",
    "        neco=com.read_all()\n",
    "        if neco != b\"\":\n",
    "           print(neco)\n",
    "        sleep(0.3)\n",
    "        \n"
   ]
  }
 ],
 "metadata": {
  "kernelspec": {
   "display_name": "base",
   "language": "python",
   "name": "python3"
  },
  "language_info": {
   "codemirror_mode": {
    "name": "ipython",
    "version": 3
   },
   "file_extension": ".py",
   "mimetype": "text/x-python",
   "name": "python",
   "nbconvert_exporter": "python",
   "pygments_lexer": "ipython3",
   "version": "3.11.5"
  }
 },
 "nbformat": 4,
 "nbformat_minor": 2
}
